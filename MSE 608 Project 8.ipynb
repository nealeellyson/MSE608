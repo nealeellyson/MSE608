{
 "cells": [
  {
   "cell_type": "markdown",
   "metadata": {},
   "source": [
    "### Neale Ellyson\n",
    "## MSE 608: Project 8"
   ]
  },
  {
   "cell_type": "code",
   "execution_count": 1,
   "metadata": {
    "scrolled": true
   },
   "outputs": [],
   "source": [
    "import hoomd\n",
    "import hoomd.md\n",
    "import numpy\n",
    "import ex_render\n",
    "import freud \n",
    "import matplotlib.pyplot as plt\n",
    "import time\n",
    "%matplotlib inline\n",
    "temperatures = {}\n",
    "data = {}\n",
    "EQtemp = {}\n",
    "EQdata = {}\n",
    "analysis = {}\n",
    "EQanalysis = {}"
   ]
  },
  {
   "cell_type": "code",
   "execution_count": 34,
   "metadata": {},
   "outputs": [],
   "source": [
    "class rdf_analyze:\n",
    "    def __init__(self, system):\n",
    "        self.system = system;\n",
    "        self.rdf = freud.density.RDF(rmax=2.0, dr=0.01); #Can update range and stepsize here\n",
    "        \n",
    "    def __call__(self, step):\n",
    "        '''This special function defines what happens when we \"register\" the callback below'''\n",
    "        snap = self.system.take_snapshot();\n",
    "        pos = snap.particles.position;\n",
    "        box = freud.box.Box(snap.box.Lx, snap.box.Ly, snap.box.Lz);\n",
    "        self.rdf.accumulate(box, pos, pos);"
   ]
  },
  {
   "cell_type": "code",
   "execution_count": 35,
   "metadata": {},
   "outputs": [],
   "source": [
    "def size(N): # Creates position vectors and bond groups for\n",
    "    line = numpy.linspace(-(N//2-.5),(N//2-.5),num=N)\n",
    "    position = numpy.insert(numpy.zeros((N,2)), 0, line, axis=1)\n",
    "    bondPP = [[0,1], [1,2], [2,3], [3,4]]\n",
    "    addbonds = numpy.insert(numpy.arange(5,N).reshape(N-5,1),0,numpy.linspace(4,N-2,num=N-5),axis=1)\n",
    "    bondgroup = numpy.concatenate((bondPP, addbonds))\n",
    "    return position,bondgroup"
   ]
  },
  {
   "cell_type": "code",
   "execution_count": 36,
   "metadata": {},
   "outputs": [],
   "source": [
    "def run(N,position,bondgroup,kT,tau,period,tsteps):\n",
    "    hoomd.context.initialize(\"\");\n",
    "    # Mike says \"This is initializing the longer way than a lattice\"\n",
    "    snapshot = hoomd.data.make_snapshot(N=N, # Number of atoms in a particle\n",
    "                                        box=hoomd.data.boxdim(Lx=N, Ly=0.5, Lz=0.5),\n",
    "                                        particle_types=['A', 'B'],\n",
    "                                        bond_types=['polymer']); # Single bond type\n",
    "    snapshot.particles.position[:] = position\n",
    "    snapshot.particles.typeid[0:(N//2-1)]=0;  # Blue particles = A\n",
    "    snapshot.particles.typeid[N//2:N]=1; # Orange particles = B\n",
    "    snapshot.bonds.resize(N-1);\n",
    "    snapshot.bonds.group[:] = bondgroup\n",
    "    snapshot.replicate(1,2*N,2*N); # Makes boxdim equal across the L dimensions\n",
    "    hoomd.init.read_snapshot(snapshot);\n",
    "    nl = hoomd.md.nlist.cell();\n",
    "    dpd = hoomd.md.pair.dpd(r_cut=1.0, nlist=nl, kT=kT, seed=1); # NOT Dissipative Particle Dynamics, LJ\n",
    "    dpd.pair_coeff.set('A', 'A', A=25.0, gamma = 1.0);\n",
    "    dpd.pair_coeff.set('A', 'B', A=75.0, gamma = 1.0);\n",
    "    dpd.pair_coeff.set('B', 'B', A=25.0, gamma = 1.0);\n",
    "    nl.reset_exclusions(exclusions = []);\n",
    "    harmonic = hoomd.md.bond.harmonic();\n",
    "    harmonic.bond_coeff.set('polymer', k=100.0, r0=0);\n",
    "    hoomd.md.integrate.mode_standard(dt=0.005);\n",
    "    all = hoomd.group.all();\n",
    "    integrator = hoomd.md.integrate.nvt(group=all,kT=kT,tau=tau);\n",
    "    integrator.randomize_velocities(seed=42)\n",
    "    hoomd.analyze.log(filename=\"size-\"+str(N)+\".log\",\n",
    "                      quantities=['potential_energy','kinetic_energy','temperature','time'],\n",
    "                      period=period ,\n",
    "                      overwrite=True);\n",
    "    hoomd.dump.gsd(\"traj-size-\"+str(N)+\".gsd\", period=tsteps/10 , group=all, overwrite=True);\n",
    "    hoomd.run(tsteps);\n",
    "    data = numpy.genfromtxt(fname=\"size-\"+str(N)+\".log\", skip_header=True);\n",
    "    return data"
   ]
  },
  {
   "cell_type": "code",
   "execution_count": 37,
   "metadata": {},
   "outputs": [],
   "source": [
    "def EQrun(kT,tau,period,tsteps):\n",
    "    hoomd.context.initialize(\"\");\n",
    "    system = hoomd.init.read_gsd(\"traj-size-\"+str(N)+\".gsd\", frame=-1, time_step=0)\n",
    "    EQanalysis = rdf_analyze(system); # Create the RDF analyzer using our class in the above cell\n",
    "    hoomd.analyze.callback(EQanalysis, period=period); #Registration of the RDF callback every 100 steps\n",
    "    nl = hoomd.md.nlist.cell();\n",
    "    dpd = hoomd.md.pair.dpd(r_cut=1.0, nlist=nl, kT=kT, seed=1); # NOT Dissipative Particle Dynamics, LJ\n",
    "    dpd.pair_coeff.set('A', 'A', A=25.0, gamma = 1.0);\n",
    "    dpd.pair_coeff.set('A', 'B', A=75.0, gamma = 1.0);\n",
    "    dpd.pair_coeff.set('B', 'B', A=25.0, gamma = 1.0);\n",
    "    nl.reset_exclusions(exclusions = []);\n",
    "    harmonic = hoomd.md.bond.harmonic();\n",
    "    harmonic.bond_coeff.set('polymer', k=100.0, r0=0);\n",
    "    hoomd.md.integrate.mode_standard(dt=0.005);\n",
    "    all = hoomd.group.all();\n",
    "    integrator = hoomd.md.integrate.nvt(group=all,kT=kT,tau=tau);\n",
    "    integrator.randomize_velocities(seed=42)\n",
    "    hoomd.analyze.log(filename=\"EQ-size-\"+str(N)+\".log\",\n",
    "                      quantities=['potential_energy','kinetic_energy','temperature','time'],\n",
    "                      period=period ,\n",
    "                      overwrite=True);\n",
    "    hoomd.dump.gsd(\"EQtraj-size-\"+str(N)+\".gsd\", period=tsteps/10 , group=all, overwrite=True);\n",
    "    hoomd.run(tsteps);\n",
    "    data = numpy.genfromtxt(fname=\"EQ-size-\"+str(N)+\".log\", skip_header=True);\n",
    "    return data,EQanalysis"
   ]
  },
  {
   "cell_type": "code",
   "execution_count": 38,
   "metadata": {},
   "outputs": [
    {
     "data": {
      "text/plain": [
       "array([5, 7, 9])"
      ]
     },
     "execution_count": 38,
     "metadata": {},
     "output_type": "execute_result"
    }
   ],
   "source": [
    "numpy.arange(5,11,2)"
   ]
  },
  {
   "cell_type": "code",
   "execution_count": 39,
   "metadata": {
    "collapsed": true
   },
   "outputs": [
    {
     "name": "stdout",
     "output_type": "stream",
     "text": [
      "\n",
      " Starting run with 5 particles at a temperature of 1 \n",
      "\n",
      "notice(2): Group \"all\" created containing 500 particles\n",
      "-----\n",
      "You are using DPD. Please cite the following:\n",
      "* C L Phillips, J A Anderson, and S C Glotzer. \"Pseudo-random number generation\n",
      "  for Brownian Dynamics and Dissipative Particle Dynamics simulations on GPU\n",
      "  devices\", Journal of Computational Physics 230 (2011) 7191--7201\n",
      "-----\n",
      "notice(2): -- Neighborlist exclusion statistics -- :\n",
      "notice(2): Particles with 0 exclusions             : 500\n",
      "notice(2): Neighbors included by diameter          : no\n",
      "notice(2): Neighbors excluded when in the same body: no\n",
      "** starting run **\n",
      "Time 00:00:09 | Step 10000 / 10000 | TPS 1056.11 | ETA 00:00:00\n",
      "Average TPS: 1055.99\n",
      "---------\n",
      "-- Neighborlist stats:\n",
      "876 normal updates / 100 forced updates / 0 dangerous updates\n",
      "n_neigh_min: 0 / n_neigh_max: 47 / n_neigh_avg: 22.332\n",
      "shortest rebuild period: 6\n",
      "-- Cell list stats:\n",
      "Dimension: 3, 3, 3\n",
      "n_min    : 14 / n_max: 23 / n_avg: 18.5185\n",
      "** run complete **\n",
      "\n",
      " Starting Equilirbrium Run\n",
      "notice(2): Group \"all\" created containing 500 particles\n",
      "-----\n",
      "You are using DPD. Please cite the following:\n",
      "* C L Phillips, J A Anderson, and S C Glotzer. \"Pseudo-random number generation\n",
      "  for Brownian Dynamics and Dissipative Particle Dynamics simulations on GPU\n",
      "  devices\", Journal of Computational Physics 230 (2011) 7191--7201\n",
      "-----\n",
      "notice(2): -- Neighborlist exclusion statistics -- :\n",
      "notice(2): Particles with 0 exclusions             : 500\n",
      "notice(2): Neighbors included by diameter          : no\n",
      "notice(2): Neighbors excluded when in the same body: no\n",
      "** starting run **\n",
      "Time 00:00:10 | Step 9915 / 10000 | TPS 991.452 | ETA 00:00:00\n",
      "Time 00:00:10 | Step 10000 / 10000 | TPS 1163.35 | ETA 00:00:00\n",
      "Average TPS: 992.574\n",
      "---------\n",
      "-- Neighborlist stats:\n",
      "879 normal updates / 100 forced updates / 0 dangerous updates\n",
      "n_neigh_min: 0 / n_neigh_max: 45 / n_neigh_avg: 22.268\n",
      "shortest rebuild period: 7\n",
      "-- Cell list stats:\n",
      "Dimension: 3, 3, 3\n",
      "n_min    : 13 / n_max: 23 / n_avg: 18.5185\n",
      "** run complete **\n",
      "\n",
      " Starting run with 6 particles at a temperature of 1 \n",
      "\n",
      "notice(2): Group \"all\" created containing 864 particles\n",
      "-----\n",
      "You are using DPD. Please cite the following:\n",
      "* C L Phillips, J A Anderson, and S C Glotzer. \"Pseudo-random number generation\n",
      "  for Brownian Dynamics and Dissipative Particle Dynamics simulations on GPU\n",
      "  devices\", Journal of Computational Physics 230 (2011) 7191--7201\n",
      "-----\n",
      "notice(2): -- Neighborlist exclusion statistics -- :\n",
      "notice(2): Particles with 0 exclusions             : 864\n",
      "notice(2): Neighbors included by diameter          : no\n",
      "notice(2): Neighbors excluded when in the same body: no\n",
      "** starting run **\n",
      "Time 00:00:10 | Step 7153 / 10000 | TPS 715.24 | ETA 00:00:03\n",
      "Time 00:00:13 | Step 10000 / 10000 | TPS 787.75 | ETA 00:00:00\n",
      "Average TPS: 734.406\n",
      "---------\n",
      "-- Neighborlist stats:\n",
      "898 normal updates / 100 forced updates / 0 dangerous updates\n",
      "n_neigh_min: 0 / n_neigh_max: 50 / n_neigh_avg: 22.6204\n",
      "shortest rebuild period: 6\n",
      "-- Cell list stats:\n",
      "Dimension: 4, 4, 4\n",
      "n_min    : 9 / n_max: 19 / n_avg: 13.5\n",
      "** run complete **\n",
      "\n",
      " Starting Equilirbrium Run\n",
      "notice(2): Group \"all\" created containing 864 particles\n",
      "-----\n",
      "You are using DPD. Please cite the following:\n",
      "* C L Phillips, J A Anderson, and S C Glotzer. \"Pseudo-random number generation\n",
      "  for Brownian Dynamics and Dissipative Particle Dynamics simulations on GPU\n",
      "  devices\", Journal of Computational Physics 230 (2011) 7191--7201\n",
      "-----\n",
      "notice(2): -- Neighborlist exclusion statistics -- :\n",
      "notice(2): Particles with 0 exclusions             : 864\n",
      "notice(2): Neighbors included by diameter          : no\n",
      "notice(2): Neighbors excluded when in the same body: no\n",
      "** starting run **\n",
      "Time 00:00:10 | Step 6922 / 10000 | TPS 692.042 | ETA 00:00:04\n",
      "Time 00:00:14 | Step 10000 / 10000 | TPS 751.854 | ETA 00:00:00\n",
      "Average TPS: 709.375\n",
      "---------\n",
      "-- Neighborlist stats:\n",
      "906 normal updates / 100 forced updates / 0 dangerous updates\n",
      "n_neigh_min: 0 / n_neigh_max: 49 / n_neigh_avg: 22.5903\n",
      "shortest rebuild period: 8\n",
      "-- Cell list stats:\n",
      "Dimension: 4, 4, 4\n",
      "n_min    : 9 / n_max: 18 / n_avg: 13.5\n",
      "** run complete **\n",
      "\n",
      " Starting run with 7 particles at a temperature of 1 \n",
      "\n",
      "notice(2): Group \"all\" created containing 1372 particles\n",
      "-----\n",
      "You are using DPD. Please cite the following:\n",
      "* C L Phillips, J A Anderson, and S C Glotzer. \"Pseudo-random number generation\n",
      "  for Brownian Dynamics and Dissipative Particle Dynamics simulations on GPU\n",
      "  devices\", Journal of Computational Physics 230 (2011) 7191--7201\n",
      "-----\n",
      "notice(2): -- Neighborlist exclusion statistics -- :\n",
      "notice(2): Particles with 0 exclusions             : 1372\n",
      "notice(2): Neighbors included by diameter          : no\n",
      "notice(2): Neighbors excluded when in the same body: no\n",
      "** starting run **\n",
      "Time 00:00:10 | Step 4495 / 10000 | TPS 449.417 | ETA 00:00:12\n",
      "Time 00:00:20 | Step 9438 / 10000 | TPS 494.275 | ETA 00:00:01\n",
      "Time 00:00:21 | Step 10000 / 10000 | TPS 521.801 | ETA 00:00:00\n",
      "Average TPS: 474.373\n",
      "---------\n",
      "-- Neighborlist stats:\n",
      "928 normal updates / 100 forced updates / 0 dangerous updates\n",
      "n_neigh_min: 0 / n_neigh_max: 48 / n_neigh_avg: 22.8105\n",
      "shortest rebuild period: 6\n",
      "-- Cell list stats:\n",
      "Dimension: 5, 5, 5\n",
      "n_min    : 7 / n_max: 17 / n_avg: 10.976\n",
      "** run complete **\n",
      "\n",
      " Starting Equilirbrium Run\n",
      "notice(2): Group \"all\" created containing 1372 particles\n",
      "-----\n",
      "You are using DPD. Please cite the following:\n",
      "* C L Phillips, J A Anderson, and S C Glotzer. \"Pseudo-random number generation\n",
      "  for Brownian Dynamics and Dissipative Particle Dynamics simulations on GPU\n",
      "  devices\", Journal of Computational Physics 230 (2011) 7191--7201\n",
      "-----\n",
      "notice(2): -- Neighborlist exclusion statistics -- :\n",
      "notice(2): Particles with 0 exclusions             : 1372\n",
      "notice(2): Neighbors included by diameter          : no\n",
      "notice(2): Neighbors excluded when in the same body: no\n",
      "** starting run **\n",
      "Time 00:00:10 | Step 4544 / 10000 | TPS 454.256 | ETA 00:00:12\n",
      "Time 00:00:20 | Step 9501 / 10000 | TPS 495.282 | ETA 00:00:01\n",
      "Time 00:00:21 | Step 10000 / 10000 | TPS 502.576 | ETA 00:00:00\n",
      "Average TPS: 476.068\n",
      "---------\n",
      "-- Neighborlist stats:\n",
      "920 normal updates / 100 forced updates / 0 dangerous updates\n",
      "n_neigh_min: 0 / n_neigh_max: 49 / n_neigh_avg: 22.7697\n",
      "shortest rebuild period: 8\n",
      "-- Cell list stats:\n",
      "Dimension: 5, 5, 5\n",
      "n_min    : 6 / n_max: 16 / n_avg: 10.976\n",
      "** run complete **\n",
      "\n",
      " Starting run with 8 particles at a temperature of 1 \n",
      "\n",
      "notice(2): Group \"all\" created containing 2048 particles\n",
      "-----\n",
      "You are using DPD. Please cite the following:\n",
      "* C L Phillips, J A Anderson, and S C Glotzer. \"Pseudo-random number generation\n",
      "  for Brownian Dynamics and Dissipative Particle Dynamics simulations on GPU\n",
      "  devices\", Journal of Computational Physics 230 (2011) 7191--7201\n",
      "-----\n",
      "notice(2): -- Neighborlist exclusion statistics -- :\n",
      "notice(2): Particles with 0 exclusions             : 2048\n",
      "notice(2): Neighbors included by diameter          : no\n",
      "notice(2): Neighbors excluded when in the same body: no\n",
      "** starting run **\n",
      "Time 00:00:10 | Step 2577 / 10000 | TPS 257.662 | ETA 00:00:28\n",
      "Time 00:00:20 | Step 5637 / 10000 | TPS 305.651 | ETA 00:00:14\n",
      "Time 00:00:30 | Step 8450 / 10000 | TPS 281.266 | ETA 00:00:05\n",
      "Time 00:00:34 | Step 10000 / 10000 | TPS 318.099 | ETA 00:00:00\n",
      "Average TPS: 286.63\n",
      "---------\n",
      "-- Neighborlist stats:\n",
      "963 normal updates / 100 forced updates / 0 dangerous updates\n",
      "n_neigh_min: 0 / n_neigh_max: 50 / n_neigh_avg: 22.8228\n",
      "shortest rebuild period: 5\n",
      "-- Cell list stats:\n",
      "Dimension: 5, 5, 5\n",
      "n_min    : 9 / n_max: 23 / n_avg: 16.384\n",
      "** run complete **\n",
      "\n",
      " Starting Equilirbrium Run\n",
      "notice(2): Group \"all\" created containing 2048 particles\n",
      "-----\n",
      "You are using DPD. Please cite the following:\n",
      "* C L Phillips, J A Anderson, and S C Glotzer. \"Pseudo-random number generation\n",
      "  for Brownian Dynamics and Dissipative Particle Dynamics simulations on GPU\n",
      "  devices\", Journal of Computational Physics 230 (2011) 7191--7201\n",
      "-----\n",
      "notice(2): -- Neighborlist exclusion statistics -- :\n",
      "notice(2): Particles with 0 exclusions             : 2048\n",
      "notice(2): Neighbors included by diameter          : no\n",
      "notice(2): Neighbors excluded when in the same body: no\n",
      "** starting run **\n",
      "Time 00:00:10 | Step 2724 / 10000 | TPS 272.372 | ETA 00:00:26\n"
     ]
    },
    {
     "name": "stdout",
     "output_type": "stream",
     "text": [
      "Time 00:00:20 | Step 5709 / 10000 | TPS 298.492 | ETA 00:00:14\n",
      "Time 00:00:30 | Step 8730 / 10000 | TPS 302.079 | ETA 00:00:04\n",
      "Time 00:00:34 | Step 10000 / 10000 | TPS 295.401 | ETA 00:00:00\n",
      "Average TPS: 291.527\n",
      "---------\n",
      "-- Neighborlist stats:\n",
      "952 normal updates / 100 forced updates / 0 dangerous updates\n",
      "n_neigh_min: 0 / n_neigh_max: 52 / n_neigh_avg: 22.9072\n",
      "shortest rebuild period: 8\n",
      "-- Cell list stats:\n",
      "Dimension: 5, 5, 5\n",
      "n_min    : 10 / n_max: 22 / n_avg: 16.384\n",
      "** run complete **\n",
      "\n",
      " Starting run with 9 particles at a temperature of 1 \n",
      "\n",
      "notice(2): Group \"all\" created containing 2916 particles\n",
      "-----\n",
      "You are using DPD. Please cite the following:\n",
      "* C L Phillips, J A Anderson, and S C Glotzer. \"Pseudo-random number generation\n",
      "  for Brownian Dynamics and Dissipative Particle Dynamics simulations on GPU\n",
      "  devices\", Journal of Computational Physics 230 (2011) 7191--7201\n",
      "-----\n",
      "notice(2): -- Neighborlist exclusion statistics -- :\n",
      "notice(2): Particles with 0 exclusions             : 2916\n",
      "notice(2): Neighbors included by diameter          : no\n",
      "notice(2): Neighbors excluded when in the same body: no\n",
      "** starting run **\n",
      "Time 00:00:10 | Step 1770 / 10000 | TPS 176.77 | ETA 00:00:46\n",
      "Time 00:00:20 | Step 3921 / 10000 | TPS 215.021 | ETA 00:00:28\n",
      "Time 00:00:30 | Step 5979 / 10000 | TPS 205.743 | ETA 00:00:19\n",
      "Time 00:00:40 | Step 8299 / 10000 | TPS 231.891 | ETA 00:00:07\n",
      "Time 00:00:47 | Step 10000 / 10000 | TPS 230.342 | ETA 00:00:00\n",
      "Average TPS: 210.925\n",
      "---------\n",
      "-- Neighborlist stats:\n",
      "988 normal updates / 100 forced updates / 0 dangerous updates\n",
      "n_neigh_min: 0 / n_neigh_max: 48 / n_neigh_avg: 22.8254\n",
      "shortest rebuild period: 6\n",
      "-- Cell list stats:\n",
      "Dimension: 6, 6, 6\n",
      "n_min    : 5 / n_max: 19 / n_avg: 13.5\n",
      "** run complete **\n",
      "\n",
      " Starting Equilirbrium Run\n",
      "notice(2): Group \"all\" created containing 2916 particles\n",
      "-----\n",
      "You are using DPD. Please cite the following:\n",
      "* C L Phillips, J A Anderson, and S C Glotzer. \"Pseudo-random number generation\n",
      "  for Brownian Dynamics and Dissipative Particle Dynamics simulations on GPU\n",
      "  devices\", Journal of Computational Physics 230 (2011) 7191--7201\n",
      "-----\n",
      "notice(2): -- Neighborlist exclusion statistics -- :\n",
      "notice(2): Particles with 0 exclusions             : 2916\n",
      "notice(2): Neighbors included by diameter          : no\n",
      "notice(2): Neighbors excluded when in the same body: no\n",
      "** starting run **\n",
      "Time 00:00:10 | Step 1968 / 10000 | TPS 196.772 | ETA 00:00:40\n",
      "Time 00:00:20 | Step 4100 / 10000 | TPS 213.142 | ETA 00:00:27\n",
      "Time 00:00:30 | Step 6158 / 10000 | TPS 205.771 | ETA 00:00:18\n",
      "Time 00:00:40 | Step 8300 / 10000 | TPS 213.902 | ETA 00:00:07\n",
      "Time 00:00:47 | Step 10000 / 10000 | TPS 217.633 | ETA 00:00:00\n",
      "Average TPS: 209.067\n",
      "---------\n",
      "-- Neighborlist stats:\n",
      "968 normal updates / 100 forced updates / 0 dangerous updates\n",
      "n_neigh_min: 0 / n_neigh_max: 48 / n_neigh_avg: 22.8892\n",
      "shortest rebuild period: 7\n",
      "-- Cell list stats:\n",
      "Dimension: 6, 6, 6\n",
      "n_min    : 8 / n_max: 21 / n_avg: 13.5\n",
      "** run complete **\n",
      "\n",
      " Starting run with 10 particles at a temperature of 1 \n",
      "\n",
      "notice(2): Group \"all\" created containing 4000 particles\n",
      "-----\n",
      "You are using DPD. Please cite the following:\n",
      "* C L Phillips, J A Anderson, and S C Glotzer. \"Pseudo-random number generation\n",
      "  for Brownian Dynamics and Dissipative Particle Dynamics simulations on GPU\n",
      "  devices\", Journal of Computational Physics 230 (2011) 7191--7201\n",
      "-----\n",
      "notice(2): -- Neighborlist exclusion statistics -- :\n",
      "notice(2): Particles with 0 exclusions             : 4000\n",
      "notice(2): Neighbors included by diameter          : no\n",
      "notice(2): Neighbors excluded when in the same body: no\n",
      "** starting run **\n",
      "Time 00:00:10 | Step 1235 / 10000 | TPS 123.48 | ETA 00:01:10\n",
      "Time 00:00:20 | Step 2967 / 10000 | TPS 173.199 | ETA 00:00:40\n",
      "Time 00:00:30 | Step 4650 / 10000 | TPS 168.266 | ETA 00:00:31\n",
      "Time 00:00:40 | Step 6348 / 10000 | TPS 169.499 | ETA 00:00:21\n",
      "Time 00:00:50 | Step 8011 / 10000 | TPS 166.041 | ETA 00:00:11\n",
      "Time 00:01:00 | Step 9717 / 10000 | TPS 170.573 | ETA 00:00:01\n",
      "Time 00:01:01 | Step 10000 / 10000 | TPS 172.217 | ETA 00:00:00\n",
      "Average TPS: 162.119\n",
      "---------\n",
      "-- Neighborlist stats:\n",
      "1008 normal updates / 100 forced updates / 0 dangerous updates\n",
      "n_neigh_min: 0 / n_neigh_max: 49 / n_neigh_avg: 22.8882\n",
      "shortest rebuild period: 5\n",
      "-- Cell list stats:\n",
      "Dimension: 7, 7, 7\n",
      "n_min    : 6 / n_max: 17 / n_avg: 11.6618\n",
      "** run complete **\n",
      "\n",
      " Starting Equilirbrium Run\n",
      "notice(2): Group \"all\" created containing 4000 particles\n",
      "-----\n",
      "You are using DPD. Please cite the following:\n",
      "* C L Phillips, J A Anderson, and S C Glotzer. \"Pseudo-random number generation\n",
      "  for Brownian Dynamics and Dissipative Particle Dynamics simulations on GPU\n",
      "  devices\", Journal of Computational Physics 230 (2011) 7191--7201\n",
      "-----\n",
      "notice(2): -- Neighborlist exclusion statistics -- :\n",
      "notice(2): Particles with 0 exclusions             : 4000\n",
      "notice(2): Neighbors included by diameter          : no\n",
      "notice(2): Neighbors excluded when in the same body: no\n",
      "** starting run **\n",
      "Time 00:00:10 | Step 1447 / 10000 | TPS 144.656 | ETA 00:00:59\n",
      "Time 00:00:20 | Step 3066 / 10000 | TPS 161.843 | ETA 00:00:42\n",
      "Time 00:00:30 | Step 4699 / 10000 | TPS 163.069 | ETA 00:00:32\n",
      "Time 00:00:40 | Step 6331 / 10000 | TPS 163.141 | ETA 00:00:22\n",
      "Time 00:00:50 | Step 7942 / 10000 | TPS 161.081 | ETA 00:00:12\n",
      "Time 00:01:00 | Step 9584 / 10000 | TPS 164.171 | ETA 00:00:02\n",
      "Time 00:01:02 | Step 10000 / 10000 | TPS 163.557 | ETA 00:00:00\n",
      "Average TPS: 159.817\n",
      "---------\n",
      "-- Neighborlist stats:\n",
      "993 normal updates / 100 forced updates / 0 dangerous updates\n",
      "n_neigh_min: 0 / n_neigh_max: 48 / n_neigh_avg: 22.8837\n",
      "shortest rebuild period: 8\n",
      "-- Cell list stats:\n",
      "Dimension: 7, 7, 7\n",
      "n_min    : 6 / n_max: 18 / n_avg: 11.6618\n",
      "** run complete **\n",
      "This took 6.313875313599905 minutes, or 0.10523125522666507 hours\n"
     ]
    }
   ],
   "source": [
    "#N = 10 # Must be at least 10 and an even number; 40,~5:56min; 30,~2:24min; 20,~0:38\n",
    "#kT = 1 # Using range 0.1<kT<10\n",
    "Sizes = numpy.arange(5,11,1)\n",
    "Temps = numpy.arange(1,2,2)\n",
    "tau = 0.1\n",
    "period = 100\n",
    "tsteps = 1e4\n",
    "start = time.time()\n",
    "for N in Sizes:\n",
    "    pos,bonds = size(N)\n",
    "    onerun = []\n",
    "    oneEQrun = []\n",
    "    analysisrun = []\n",
    "    for kT in Temps:\n",
    "        print(\"\\n Starting run with\",N,\"particles at a temperature of\", kT,\"\\n\")\n",
    "        temperatures[kT] = run(N,pos,bonds,kT,tau,period,tsteps)\n",
    "        onerun.append(temperatures[kT])\n",
    "        data[N] =  numpy.array(onerun)\n",
    "        print(\"\\n Starting Equilirbrium Run\")\n",
    "        EQtemp[kT],analysis[kT] = EQrun(kT,tau,period,tsteps)\n",
    "        oneEQrun.append(EQtemp[kT])\n",
    "        analysisrun.append(analysis[kT])\n",
    "        EQdata[N] = numpy.array(oneEQrun)\n",
    "        EQanalysis[N] = numpy.array(analysisrun)\n",
    "finish = time.time()\n",
    "print('This took',(finish-start)/60,'minutes, or',(finish-start)/60/60,'hours')"
   ]
  },
  {
   "cell_type": "code",
   "execution_count": 54,
   "metadata": {},
   "outputs": [
    {
     "name": "stdout",
     "output_type": "stream",
     "text": [
      "[0.16666666666666666, 0.2857142857142857, 0.375, 0.4444444444444444, 0.5]\n",
      "54122.57771385754\n"
     ]
    }
   ],
   "source": [
    "print([1/6,2/7,3/8,4/9,5/10])\n",
    "z = 6\n",
    "del_w = 75-0.5*(25-25)\n",
    "kB = 0.00831445986144858\n",
    "chi = z*del_w/kB/kT\n",
    "print(chi)"
   ]
  },
  {
   "cell_type": "code",
   "execution_count": 38,
   "metadata": {},
   "outputs": [
    {
     "ename": "IndexError",
     "evalue": "index 1 is out of bounds for axis 0 with size 1",
     "output_type": "error",
     "traceback": [
      "\u001b[0;31m---------------------------------------------------------------------------\u001b[0m",
      "\u001b[0;31mIndexError\u001b[0m                                Traceback (most recent call last)",
      "\u001b[0;32m<ipython-input-38-3f3ba9f04b04>\u001b[0m in \u001b[0;36m<module>\u001b[0;34m\u001b[0m\n\u001b[1;32m      1\u001b[0m \u001b[0mplt\u001b[0m\u001b[0;34m.\u001b[0m\u001b[0mfigure\u001b[0m\u001b[0;34m(\u001b[0m\u001b[0;34m)\u001b[0m\u001b[0;34m\u001b[0m\u001b[0;34m\u001b[0m\u001b[0m\n\u001b[1;32m      2\u001b[0m \u001b[0mplt\u001b[0m\u001b[0;34m.\u001b[0m\u001b[0mplot\u001b[0m\u001b[0;34m(\u001b[0m\u001b[0mdata\u001b[0m\u001b[0;34m[\u001b[0m\u001b[0;36m10\u001b[0m\u001b[0;34m]\u001b[0m\u001b[0;34m[\u001b[0m\u001b[0;36m0\u001b[0m\u001b[0;34m]\u001b[0m\u001b[0;34m[\u001b[0m\u001b[0;34m:\u001b[0m\u001b[0;34m,\u001b[0m\u001b[0;36m0\u001b[0m\u001b[0;34m]\u001b[0m\u001b[0;34m,\u001b[0m\u001b[0mdata\u001b[0m\u001b[0;34m[\u001b[0m\u001b[0;36m10\u001b[0m\u001b[0;34m]\u001b[0m\u001b[0;34m[\u001b[0m\u001b[0;36m0\u001b[0m\u001b[0;34m]\u001b[0m\u001b[0;34m[\u001b[0m\u001b[0;34m:\u001b[0m\u001b[0;34m,\u001b[0m\u001b[0;36m1\u001b[0m\u001b[0;34m]\u001b[0m\u001b[0;34m,\u001b[0m\u001b[0mlabel\u001b[0m\u001b[0;34m=\u001b[0m\u001b[0;34m'kT=0.01'\u001b[0m\u001b[0;34m,\u001b[0m\u001b[0mcolor\u001b[0m\u001b[0;34m=\u001b[0m\u001b[0;34m'#4888db'\u001b[0m\u001b[0;34m)\u001b[0m\u001b[0;34m\u001b[0m\u001b[0;34m\u001b[0m\u001b[0m\n\u001b[0;32m----> 3\u001b[0;31m \u001b[0mplt\u001b[0m\u001b[0;34m.\u001b[0m\u001b[0mplot\u001b[0m\u001b[0;34m(\u001b[0m\u001b[0mdata\u001b[0m\u001b[0;34m[\u001b[0m\u001b[0;36m10\u001b[0m\u001b[0;34m]\u001b[0m\u001b[0;34m[\u001b[0m\u001b[0;36m1\u001b[0m\u001b[0;34m]\u001b[0m\u001b[0;34m[\u001b[0m\u001b[0;34m:\u001b[0m\u001b[0;34m,\u001b[0m\u001b[0;36m0\u001b[0m\u001b[0;34m]\u001b[0m\u001b[0;34m,\u001b[0m\u001b[0mdata\u001b[0m\u001b[0;34m[\u001b[0m\u001b[0;36m10\u001b[0m\u001b[0;34m]\u001b[0m\u001b[0;34m[\u001b[0m\u001b[0;36m1\u001b[0m\u001b[0;34m]\u001b[0m\u001b[0;34m[\u001b[0m\u001b[0;34m:\u001b[0m\u001b[0;34m,\u001b[0m\u001b[0;36m1\u001b[0m\u001b[0;34m]\u001b[0m\u001b[0;34m,\u001b[0m\u001b[0mlabel\u001b[0m\u001b[0;34m=\u001b[0m\u001b[0;34m'kT=1.7575'\u001b[0m\u001b[0;34m,\u001b[0m\u001b[0mcolor\u001b[0m\u001b[0;34m=\u001b[0m\u001b[0;34m'#f79501'\u001b[0m\u001b[0;34m)\u001b[0m\u001b[0;34m\u001b[0m\u001b[0;34m\u001b[0m\u001b[0m\n\u001b[0m\u001b[1;32m      4\u001b[0m \u001b[0mplt\u001b[0m\u001b[0;34m.\u001b[0m\u001b[0mplot\u001b[0m\u001b[0;34m(\u001b[0m\u001b[0mdata\u001b[0m\u001b[0;34m[\u001b[0m\u001b[0;36m10\u001b[0m\u001b[0;34m]\u001b[0m\u001b[0;34m[\u001b[0m\u001b[0;34m-\u001b[0m\u001b[0;36m1\u001b[0m\u001b[0;34m]\u001b[0m\u001b[0;34m[\u001b[0m\u001b[0;34m:\u001b[0m\u001b[0;34m,\u001b[0m\u001b[0;36m0\u001b[0m\u001b[0;34m]\u001b[0m\u001b[0;34m,\u001b[0m\u001b[0mdata\u001b[0m\u001b[0;34m[\u001b[0m\u001b[0;36m10\u001b[0m\u001b[0;34m]\u001b[0m\u001b[0;34m[\u001b[0m\u001b[0;34m-\u001b[0m\u001b[0;36m1\u001b[0m\u001b[0;34m]\u001b[0m\u001b[0;34m[\u001b[0m\u001b[0;34m:\u001b[0m\u001b[0;34m,\u001b[0m\u001b[0;36m1\u001b[0m\u001b[0;34m]\u001b[0m\u001b[0;34m,\u001b[0m\u001b[0mlabel\u001b[0m\u001b[0;34m=\u001b[0m\u001b[0;34m'kT=7'\u001b[0m\u001b[0;34m,\u001b[0m\u001b[0mcolor\u001b[0m\u001b[0;34m=\u001b[0m\u001b[0;34m'#c63939'\u001b[0m\u001b[0;34m)\u001b[0m\u001b[0;34m\u001b[0m\u001b[0;34m\u001b[0m\u001b[0m\n\u001b[1;32m      5\u001b[0m \u001b[0mplt\u001b[0m\u001b[0;34m.\u001b[0m\u001b[0mxlabel\u001b[0m\u001b[0;34m(\u001b[0m\u001b[0;34m'time step'\u001b[0m\u001b[0;34m)\u001b[0m\u001b[0;34m\u001b[0m\u001b[0;34m\u001b[0m\u001b[0m\n",
      "\u001b[0;31mIndexError\u001b[0m: index 1 is out of bounds for axis 0 with size 1"
     ]
    },
    {
     "data": {
      "image/png": "[encoded data removed]",
      "text/plain": [
       "<Figure size 432x288 with 1 Axes>"
      ]
     },
     "metadata": {
      "needs_background": "light"
     },
     "output_type": "display_data"
    }
   ],
   "source": [
    "plt.figure()\n",
    "plt.plot(data[10][0][:,0],data[10][0][:,1],label='kT=0.01',color='#4888db')\n",
    "#plt.plot(data[10][1][:,0],data[10][1][:,1],label='kT=1.7575',color='#f79501')\n",
    "#plt.plot(data[10][-1][:,0],data[10][-1][:,1],label='kT=7',color='#c63939')\n",
    "plt.xlabel('time step')\n",
    "plt.ylabel('potential_energy')\n",
    "plt.legend()"
   ]
  },
  {
   "cell_type": "code",
   "execution_count": 43,
   "metadata": {},
   "outputs": [
    {
     "ename": "IndexError",
     "evalue": "index 1 is out of bounds for axis 0 with size 1",
     "output_type": "error",
     "traceback": [
      "\u001b[0;31m---------------------------------------------------------------------------\u001b[0m",
      "\u001b[0;31mIndexError\u001b[0m                                Traceback (most recent call last)",
      "\u001b[0;32m<ipython-input-43-bd19029279bf>\u001b[0m in \u001b[0;36m<module>\u001b[0;34m\u001b[0m\n\u001b[1;32m      1\u001b[0m \u001b[0mplt\u001b[0m\u001b[0;34m.\u001b[0m\u001b[0mfigure\u001b[0m\u001b[0;34m(\u001b[0m\u001b[0;34m)\u001b[0m\u001b[0;34m\u001b[0m\u001b[0;34m\u001b[0m\u001b[0m\n\u001b[1;32m      2\u001b[0m \u001b[0mplt\u001b[0m\u001b[0;34m.\u001b[0m\u001b[0mplot\u001b[0m\u001b[0;34m(\u001b[0m\u001b[0mdata\u001b[0m\u001b[0;34m[\u001b[0m\u001b[0;36m10\u001b[0m\u001b[0;34m]\u001b[0m\u001b[0;34m[\u001b[0m\u001b[0;36m0\u001b[0m\u001b[0;34m]\u001b[0m\u001b[0;34m[\u001b[0m\u001b[0;34m:\u001b[0m\u001b[0;34m,\u001b[0m\u001b[0;36m0\u001b[0m\u001b[0;34m]\u001b[0m\u001b[0;34m,\u001b[0m\u001b[0mdata\u001b[0m\u001b[0;34m[\u001b[0m\u001b[0;36m10\u001b[0m\u001b[0;34m]\u001b[0m\u001b[0;34m[\u001b[0m\u001b[0;36m0\u001b[0m\u001b[0;34m]\u001b[0m\u001b[0;34m[\u001b[0m\u001b[0;34m:\u001b[0m\u001b[0;34m,\u001b[0m\u001b[0;36m1\u001b[0m\u001b[0;34m]\u001b[0m\u001b[0;34m+\u001b[0m\u001b[0mdata\u001b[0m\u001b[0;34m[\u001b[0m\u001b[0;36m10\u001b[0m\u001b[0;34m]\u001b[0m\u001b[0;34m[\u001b[0m\u001b[0;36m0\u001b[0m\u001b[0;34m]\u001b[0m\u001b[0;34m[\u001b[0m\u001b[0;34m:\u001b[0m\u001b[0;34m,\u001b[0m\u001b[0;36m2\u001b[0m\u001b[0;34m]\u001b[0m\u001b[0;34m,\u001b[0m\u001b[0mlabel\u001b[0m\u001b[0;34m=\u001b[0m\u001b[0;34m'kT=0.01'\u001b[0m\u001b[0;34m,\u001b[0m\u001b[0mcolor\u001b[0m\u001b[0;34m=\u001b[0m\u001b[0;34m'#4888db'\u001b[0m\u001b[0;34m)\u001b[0m\u001b[0;34m\u001b[0m\u001b[0;34m\u001b[0m\u001b[0m\n\u001b[0;32m----> 3\u001b[0;31m \u001b[0mplt\u001b[0m\u001b[0;34m.\u001b[0m\u001b[0mplot\u001b[0m\u001b[0;34m(\u001b[0m\u001b[0mdata\u001b[0m\u001b[0;34m[\u001b[0m\u001b[0;36m10\u001b[0m\u001b[0;34m]\u001b[0m\u001b[0;34m[\u001b[0m\u001b[0;36m1\u001b[0m\u001b[0;34m]\u001b[0m\u001b[0;34m[\u001b[0m\u001b[0;34m:\u001b[0m\u001b[0;34m,\u001b[0m\u001b[0;36m0\u001b[0m\u001b[0;34m]\u001b[0m\u001b[0;34m,\u001b[0m\u001b[0mdata\u001b[0m\u001b[0;34m[\u001b[0m\u001b[0;36m10\u001b[0m\u001b[0;34m]\u001b[0m\u001b[0;34m[\u001b[0m\u001b[0;36m1\u001b[0m\u001b[0;34m]\u001b[0m\u001b[0;34m[\u001b[0m\u001b[0;34m:\u001b[0m\u001b[0;34m,\u001b[0m\u001b[0;36m1\u001b[0m\u001b[0;34m]\u001b[0m\u001b[0;34m+\u001b[0m\u001b[0mdata\u001b[0m\u001b[0;34m[\u001b[0m\u001b[0;36m10\u001b[0m\u001b[0;34m]\u001b[0m\u001b[0;34m[\u001b[0m\u001b[0;36m1\u001b[0m\u001b[0;34m]\u001b[0m\u001b[0;34m[\u001b[0m\u001b[0;34m:\u001b[0m\u001b[0;34m,\u001b[0m\u001b[0;36m2\u001b[0m\u001b[0;34m]\u001b[0m\u001b[0;34m,\u001b[0m\u001b[0mlabel\u001b[0m\u001b[0;34m=\u001b[0m\u001b[0;34m'kT=kT=1.7575'\u001b[0m\u001b[0;34m,\u001b[0m\u001b[0mcolor\u001b[0m\u001b[0;34m=\u001b[0m\u001b[0;34m'#f79501'\u001b[0m\u001b[0;34m)\u001b[0m\u001b[0;34m\u001b[0m\u001b[0;34m\u001b[0m\u001b[0m\n\u001b[0m\u001b[1;32m      4\u001b[0m \u001b[0mplt\u001b[0m\u001b[0;34m.\u001b[0m\u001b[0mplot\u001b[0m\u001b[0;34m(\u001b[0m\u001b[0mdata\u001b[0m\u001b[0;34m[\u001b[0m\u001b[0;36m10\u001b[0m\u001b[0;34m]\u001b[0m\u001b[0;34m[\u001b[0m\u001b[0;34m-\u001b[0m\u001b[0;36m1\u001b[0m\u001b[0;34m]\u001b[0m\u001b[0;34m[\u001b[0m\u001b[0;34m:\u001b[0m\u001b[0;34m,\u001b[0m\u001b[0;36m0\u001b[0m\u001b[0;34m]\u001b[0m\u001b[0;34m,\u001b[0m\u001b[0mdata\u001b[0m\u001b[0;34m[\u001b[0m\u001b[0;36m10\u001b[0m\u001b[0;34m]\u001b[0m\u001b[0;34m[\u001b[0m\u001b[0;34m-\u001b[0m\u001b[0;36m1\u001b[0m\u001b[0;34m]\u001b[0m\u001b[0;34m[\u001b[0m\u001b[0;34m:\u001b[0m\u001b[0;34m,\u001b[0m\u001b[0;36m1\u001b[0m\u001b[0;34m]\u001b[0m\u001b[0;34m+\u001b[0m\u001b[0mdata\u001b[0m\u001b[0;34m[\u001b[0m\u001b[0;36m10\u001b[0m\u001b[0;34m]\u001b[0m\u001b[0;34m[\u001b[0m\u001b[0;34m-\u001b[0m\u001b[0;36m1\u001b[0m\u001b[0;34m]\u001b[0m\u001b[0;34m[\u001b[0m\u001b[0;34m:\u001b[0m\u001b[0;34m,\u001b[0m\u001b[0;36m2\u001b[0m\u001b[0;34m]\u001b[0m\u001b[0;34m,\u001b[0m\u001b[0mlabel\u001b[0m\u001b[0;34m=\u001b[0m\u001b[0;34m'kT=7'\u001b[0m\u001b[0;34m,\u001b[0m\u001b[0mcolor\u001b[0m\u001b[0;34m=\u001b[0m\u001b[0;34m'#c63939'\u001b[0m\u001b[0;34m)\u001b[0m\u001b[0;34m\u001b[0m\u001b[0;34m\u001b[0m\u001b[0m\n\u001b[1;32m      5\u001b[0m \u001b[0mplt\u001b[0m\u001b[0;34m.\u001b[0m\u001b[0mxlabel\u001b[0m\u001b[0;34m(\u001b[0m\u001b[0;34m'time step'\u001b[0m\u001b[0;34m)\u001b[0m\u001b[0;34m\u001b[0m\u001b[0;34m\u001b[0m\u001b[0m\n",
      "\u001b[0;31mIndexError\u001b[0m: index 1 is out of bounds for axis 0 with size 1"
     ]
    },
    {
     "data": {
      "image/png": "[encoded data removed]",
      "text/plain": [
       "<Figure size 432x288 with 1 Axes>"
      ]
     },
     "metadata": {
      "needs_background": "light"
     },
     "output_type": "display_data"
    }
   ],
   "source": [
    "plt.figure()\n",
    "plt.plot(data[10][0][:,0],data[10][0][:,1]+data[10][0][:,2],label='kT=0.01',color='#4888db')\n",
    "#plt.plot(data[10][1][:,0],data[10][1][:,1]+data[10][1][:,2],label='kT=kT=1.7575',color='#f79501')\n",
    "#plt.plot(data[10][-1][:,0],data[10][-1][:,1]+data[10][-1][:,2],label='kT=7',color='#c63939')\n",
    "plt.xlabel('time step')\n",
    "plt.ylabel('total_energy')\n",
    "plt.legend()"
   ]
  },
  {
   "cell_type": "code",
   "execution_count": 51,
   "metadata": {},
   "outputs": [
    {
     "data": {
      "text/plain": [
       "Text(0, 0.5, 'g_AA')"
      ]
     },
     "execution_count": 51,
     "metadata": {},
     "output_type": "execute_result"
    },
    {
     "data": {
      "image/png": "[encoded data removed]",
      "text/plain": [
       "<Figure size 432x288 with 1 Axes>"
      ]
     },
     "metadata": {
      "needs_background": "light"
     },
     "output_type": "display_data"
    }
   ],
   "source": [
    "plt.figure()\n",
    "Sizes = numpy.arange(5,11,3)#numpy.arange(5,11,1)\n",
    "for N in Sizes:\n",
    "    plt.plot(EQanalysis[N][0].rdf.R, EQanalysis[N][0].rdf.RDF,label=f\"N={N}\")\n",
    "#plt.plot(EQanalysis[10][1].rdf.R, EQanalysis[10][1].rdf.RDF,label='kT=1.7575',color='#f79501')\n",
    "#plt.plot(EQanalysis[10][-1].rdf.R, EQanalysis[10][-1].rdf.RDF,label='kT=7',color='#c63939')\n",
    "plt.legend()\n",
    "plt.xlabel('r')\n",
    "plt.ylabel('g_AA')"
   ]
  },
  {
   "cell_type": "code",
   "execution_count": null,
   "metadata": {},
   "outputs": [],
   "source": [
    "ex_render.display_movie(ex_render.render_sphere_frame, 'trajectory.gsd') # Takes some time"
   ]
  },
  {
   "cell_type": "code",
   "execution_count": 46,
   "metadata": {},
   "outputs": [
    {
     "data": {
      "text/plain": [
       "{10: array([<__main__.rdf_analyze object at 0x12d37eb00>], dtype=object),\n",
       " 5: array([<__main__.rdf_analyze object at 0x1289e5b38>], dtype=object),\n",
       " 6: array([<__main__.rdf_analyze object at 0x128f08ac8>], dtype=object),\n",
       " 7: array([<__main__.rdf_analyze object at 0x12d36c668>], dtype=object),\n",
       " 8: array([<__main__.rdf_analyze object at 0x12d36c320>], dtype=object),\n",
       " 9: array([<__main__.rdf_analyze object at 0x12d38a748>], dtype=object)}"
      ]
     },
     "execution_count": 46,
     "metadata": {},
     "output_type": "execute_result"
    }
   ],
   "source": [
    "EQanalysis"
   ]
  },
  {
   "cell_type": "code",
   "execution_count": null,
   "metadata": {},
   "outputs": [],
   "source": []
  }
 ],
 "metadata": {
  "kernelspec": {
   "display_name": "Python 3",
   "language": "python",
   "name": "python3"
  },
  "language_info": {
   "codemirror_mode": {
    "name": "ipython",
    "version": 3
   },
   "file_extension": ".py",
   "mimetype": "text/x-python",
   "name": "python",
   "nbconvert_exporter": "python",
   "pygments_lexer": "ipython3",
   "version": "3.7.1"
  }
 },
 "nbformat": 4,
 "nbformat_minor": 2
}
