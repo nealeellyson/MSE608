{
 "cells": [
  {
   "cell_type": "markdown",
   "metadata": {},
   "source": [
    "### Neale Ellyson\n",
    "## MSE 608: Project 8"
   ]
  },
  {
   "cell_type": "code",
   "execution_count": 1,
   "metadata": {
    "scrolled": true
   },
   "outputs": [],
   "source": [
    "import hoomd\n",
    "import hoomd.md\n",
    "import numpy\n",
    "import ex_render\n",
    "import freud \n",
    "import matplotlib.pyplot as plt\n",
    "import time\n",
    "%matplotlib inline\n",
    "temperatures = {}\n",
    "data = {}\n",
    "EQtemp = {}\n",
    "EQdata = {}\n",
    "analysis = {}\n",
    "EQanalysis = {}"
   ]
  },
  {
   "cell_type": "code",
   "execution_count": 7,
   "metadata": {},
   "outputs": [],
   "source": [
    "class rdf_analyze:\n",
    "    def __init__(self, system):\n",
    "        self.system = system;\n",
    "        self.rdf = freud.density.RDF(rmax=4.0, dr=0.01); #Can update range and stepsize here\n",
    "        \n",
    "    def __call__(self, step):\n",
    "        '''This special function defines what happens when we \"register\" the callback below'''\n",
    "        snap = self.system.take_snapshot();\n",
    "        pos = snap.particles.position;\n",
    "        box = freud.box.Box(snap.box.Lx, snap.box.Ly, snap.box.Lz);\n",
    "        self.rdf.accumulate(box, pos, pos);"
   ]
  },
  {
   "cell_type": "code",
   "execution_count": 57,
   "metadata": {},
   "outputs": [],
   "source": [
    "def size(N): # Creates position vectors and bond groups for\n",
    "    line = numpy.linspace(-(N//2-.5),(N//2-.5),num=N)\n",
    "    position = numpy.insert(numpy.zeros((N,2)), 0, line, axis=1)\n",
    "    bondPP = [[0,1], [1,2], [2,3], [3,4]]\n",
    "    addbonds = numpy.insert(numpy.arange(5,N).reshape(N-5,1),0,numpy.linspace(4,N-2,num=N-5),axis=1)\n",
    "    bondgroup = numpy.concatenate((bondPP, addbonds))\n",
    "    return position,bondgroup"
   ]
  },
  {
   "cell_type": "code",
   "execution_count": 23,
   "metadata": {},
   "outputs": [],
   "source": [
    "def run(N,position,bondgroup,kT,tau,period,tsteps):\n",
    "    hoomd.context.initialize(\"\");\n",
    "    # Mike says \"This is initializing the longer way than a lattice\"\n",
    "    snapshot = hoomd.data.make_snapshot(N=N, # Number of atoms in a particle\n",
    "                                        box=hoomd.data.boxdim(Lx=N, Ly=0.5, Lz=0.5),\n",
    "                                        particle_types=['A', 'B'],\n",
    "                                        bond_types=['polymer']); # Single bond type\n",
    "    snapshot.particles.position[:] = position\n",
    "    snapshot.particles.typeid[0:(N//2-1)]=0;  # Blue particles = A\n",
    "    snapshot.particles.typeid[N//2:N]=1; # Orange particles = B\n",
    "    snapshot.bonds.resize(N-2);\n",
    "    snapshot.bonds.group[:] = bondgroup\n",
    "    snapshot.replicate(1,2*N,2*N); # Makes boxdim equal across the L dimensions\n",
    "    hoomd.init.read_snapshot(snapshot);\n",
    "    nl = hoomd.md.nlist.cell();\n",
    "    dpd = hoomd.md.pair.dpd(r_cut=1.0, nlist=nl, kT=kT, seed=1); # NOT Dissipative Particle Dynamics, LJ\n",
    "    dpd.pair_coeff.set('A', 'A', A=25.0, gamma = 1.0);\n",
    "    dpd.pair_coeff.set('A', 'B', A=50.0, gamma = 1.0);\n",
    "    dpd.pair_coeff.set('B', 'B', A=25.0, gamma = 1.0);\n",
    "    nl.reset_exclusions(exclusions = []);\n",
    "    harmonic = hoomd.md.bond.harmonic();\n",
    "    harmonic.bond_coeff.set('polymer', k=100.0, r0=0);\n",
    "    hoomd.md.integrate.mode_standard(dt=0.005);\n",
    "    all = hoomd.group.all();\n",
    "    integrator = hoomd.md.integrate.nvt(group=all,kT=kT,tau=tau);\n",
    "    integrator.randomize_velocities(seed=42)\n",
    "    hoomd.analyze.log(filename=\"log-output.log\",\n",
    "                      quantities=['potential_energy','kinetic_energy','temperature','time'],\n",
    "                      period=period ,\n",
    "                      overwrite=True);\n",
    "    hoomd.dump.gsd(\"trajectory.gsd\", period=tsteps/10 , group=all, overwrite=True);\n",
    "    hoomd.run(tsteps);\n",
    "    data = numpy.genfromtxt(fname='log-output.log', skip_header=True);\n",
    "    return data"
   ]
  },
  {
   "cell_type": "code",
   "execution_count": 24,
   "metadata": {},
   "outputs": [],
   "source": [
    "def EQrun(kT,tau,period,tsteps):\n",
    "    hoomd.context.initialize(\"\");\n",
    "    system = hoomd.init.read_gsd(\"trajectory.gsd\", frame=-1, time_step=0)\n",
    "    EQanalysis = rdf_analyze(system); # Create the RDF analyzer using our class in the above cell\n",
    "    hoomd.analyze.callback(EQanalysis, period=period); #Registration of the RDF callback every 100 steps\n",
    "    nl = hoomd.md.nlist.cell();\n",
    "    dpd = hoomd.md.pair.dpd(r_cut=1.0, nlist=nl, kT=kT, seed=1); # NOT Dissipative Particle Dynamics, LJ\n",
    "    dpd.pair_coeff.set('A', 'A', A=25.0, gamma = 1.0);\n",
    "    dpd.pair_coeff.set('A', 'B', A=50.0, gamma = 1.0);\n",
    "    dpd.pair_coeff.set('B', 'B', A=25.0, gamma = 1.0);\n",
    "    nl.reset_exclusions(exclusions = []);\n",
    "    harmonic = hoomd.md.bond.harmonic();\n",
    "    harmonic.bond_coeff.set('polymer', k=100.0, r0=0);\n",
    "    hoomd.md.integrate.mode_standard(dt=0.005);\n",
    "    all = hoomd.group.all();\n",
    "    integrator = hoomd.md.integrate.nvt(group=all,kT=kT,tau=tau);\n",
    "    integrator.randomize_velocities(seed=42)\n",
    "    hoomd.analyze.log(filename=\"log-output.log\",\n",
    "                      quantities=['potential_energy','kinetic_energy','temperature','time'],\n",
    "                      period=period ,\n",
    "                      overwrite=True);\n",
    "    hoomd.dump.gsd(\"EQtrajectory.gsd\", period=tsteps/10 , group=all, overwrite=True);\n",
    "    hoomd.run(tsteps);\n",
    "    data = numpy.genfromtxt(fname='log-output.log', skip_header=True);\n",
    "    return data,EQanalysis"
   ]
  },
  {
   "cell_type": "code",
   "execution_count": 34,
   "metadata": {
    "scrolled": false
   },
   "outputs": [
    {
     "name": "stdout",
     "output_type": "stream",
     "text": [
      "\n",
      " Starting run with 10 particles at a temperature of 1 \n",
      "\n",
      "notice(2): Group \"all\" created containing 4000 particles\n",
      "-----\n",
      "You are using DPD. Please cite the following:\n",
      "* C L Phillips, J A Anderson, and S C Glotzer. \"Pseudo-random number generation\n",
      "  for Brownian Dynamics and Dissipative Particle Dynamics simulations on GPU\n",
      "  devices\", Journal of Computational Physics 230 (2011) 7191--7201\n",
      "-----\n",
      "notice(2): -- Neighborlist exclusion statistics -- :\n",
      "notice(2): Particles with 0 exclusions             : 4000\n",
      "notice(2): Neighbors included by diameter          : no\n",
      "notice(2): Neighbors excluded when in the same body: no\n",
      "** starting run **\n",
      "Time 00:00:10 | Step 1310 / 10000 | TPS 130.812 | ETA 00:01:06\n",
      "Time 00:00:20 | Step 2964 / 10000 | TPS 165.37 | ETA 00:00:42\n",
      "Time 00:00:30 | Step 4599 / 10000 | TPS 163.5 | ETA 00:00:33\n",
      "Time 00:00:40 | Step 6275 / 10000 | TPS 167.583 | ETA 00:00:22\n",
      "Time 00:00:50 | Step 7898 / 10000 | TPS 162.22 | ETA 00:00:12\n",
      "Time 00:01:00 | Step 9570 / 10000 | TPS 167.002 | ETA 00:00:02\n",
      "Time 00:01:02 | Step 10000 / 10000 | TPS 169.716 | ETA 00:00:00\n",
      "Average TPS: 159.824\n",
      "---------\n",
      "-- Neighborlist stats:\n",
      "999 normal updates / 100 forced updates / 0 dangerous updates\n",
      "n_neigh_min: 0 / n_neigh_max: 50 / n_neigh_avg: 22.9428\n",
      "shortest rebuild period: 4\n",
      "-- Cell list stats:\n",
      "Dimension: 7, 7, 7\n",
      "n_min    : 5 / n_max: 19 / n_avg: 11.6618\n",
      "** run complete **\n",
      "\n",
      " Starting Equilirbrium Run\n",
      "notice(2): Group \"all\" created containing 4000 particles\n",
      "-----\n",
      "You are using DPD. Please cite the following:\n",
      "* C L Phillips, J A Anderson, and S C Glotzer. \"Pseudo-random number generation\n",
      "  for Brownian Dynamics and Dissipative Particle Dynamics simulations on GPU\n",
      "  devices\", Journal of Computational Physics 230 (2011) 7191--7201\n",
      "-----\n",
      "notice(2): -- Neighborlist exclusion statistics -- :\n",
      "notice(2): Particles with 0 exclusions             : 4000\n",
      "notice(2): Neighbors included by diameter          : no\n",
      "notice(2): Neighbors excluded when in the same body: no\n",
      "** starting run **\n",
      "Time 00:00:10 | Step 1001 / 10000 | TPS 97.7477 | ETA 00:01:32\n",
      "Time 00:00:20 | Step 2001 / 10000 | TPS 97.7783 | ETA 00:01:21\n",
      "Time 00:00:30 | Step 3101 / 10000 | TPS 109.195 | ETA 00:01:03\n",
      "Time 00:00:40 | Step 4203 / 10000 | TPS 110.188 | ETA 00:00:52\n",
      "Time 00:00:50 | Step 5301 / 10000 | TPS 107.953 | ETA 00:00:43\n",
      "Time 00:01:00 | Step 6411 / 10000 | TPS 110.826 | ETA 00:00:32\n",
      "Time 00:01:10 | Step 7526 / 10000 | TPS 111.463 | ETA 00:00:22\n",
      "Time 00:01:20 | Step 8591 / 10000 | TPS 106.498 | ETA 00:00:13\n",
      "Time 00:01:30 | Step 9694 / 10000 | TPS 110.26 | ETA 00:00:02\n",
      "Time 00:01:33 | Step 10000 / 10000 | TPS 110.586 | ETA 00:00:00\n",
      "Average TPS: 106.947\n",
      "---------\n",
      "-- Neighborlist stats:\n",
      "999 normal updates / 100 forced updates / 0 dangerous updates\n",
      "n_neigh_min: 0 / n_neigh_max: 51 / n_neigh_avg: 22.9335\n",
      "shortest rebuild period: 7\n",
      "-- Cell list stats:\n",
      "Dimension: 7, 7, 7\n",
      "n_min    : 4 / n_max: 18 / n_avg: 11.6618\n",
      "** run complete **\n",
      "This took 2.6038262645403543 minutes, or 0.043397104409005904 hours\n"
     ]
    }
   ],
   "source": [
    "#N = 10 # Must be at least 10 and an even number; 40,~5:56min; 30,~2:24min; 20,~0:38\n",
    "#kT = 1 # Using range 0.1<kT<10\n",
    "Sizes = numpy.arange(10,11,2)\n",
    "Temps = numpy.arange(1,2,2)\n",
    "tau = 0.1\n",
    "period = 100\n",
    "tsteps = 1e4\n",
    "start = time.time()\n",
    "for N in Sizes:\n",
    "    pos,bonds = size(N)\n",
    "    onerun = []\n",
    "    oneEQrun = []\n",
    "    analysisrun = []\n",
    "    for kT in Temps:\n",
    "        print(\"\\n Starting run with\",N,\"particles at a temperature of\", kT,\"\\n\")\n",
    "        temperatures[kT] = run(N,pos,bonds,kT,tau,period,tsteps)\n",
    "        onerun.append(temperatures[kT])\n",
    "        data[N] =  numpy.array(onerun)\n",
    "        print(\"\\n Starting Equilirbrium Run\")\n",
    "        EQtemp[kT],analysis[kT] = EQrun(kT,tau,period,tsteps)\n",
    "        oneEQrun.append(EQtemp[kT])\n",
    "        analysisrun.append(analysis[kT])\n",
    "        EQdata[N] = numpy.array(oneEQrun)\n",
    "        EQanalysis[N] = numpy.array(analysisrun)\n",
    "finish = time.time()\n",
    "print('This took',(finish-start)/60,'minutes, or',(finish-start)/60/60,'hours')"
   ]
  },
  {
   "cell_type": "code",
   "execution_count": 38,
   "metadata": {},
   "outputs": [
    {
     "ename": "IndexError",
     "evalue": "index 1 is out of bounds for axis 0 with size 1",
     "output_type": "error",
     "traceback": [
      "\u001b[0;31m---------------------------------------------------------------------------\u001b[0m",
      "\u001b[0;31mIndexError\u001b[0m                                Traceback (most recent call last)",
      "\u001b[0;32m<ipython-input-38-3f3ba9f04b04>\u001b[0m in \u001b[0;36m<module>\u001b[0;34m\u001b[0m\n\u001b[1;32m      1\u001b[0m \u001b[0mplt\u001b[0m\u001b[0;34m.\u001b[0m\u001b[0mfigure\u001b[0m\u001b[0;34m(\u001b[0m\u001b[0;34m)\u001b[0m\u001b[0;34m\u001b[0m\u001b[0;34m\u001b[0m\u001b[0m\n\u001b[1;32m      2\u001b[0m \u001b[0mplt\u001b[0m\u001b[0;34m.\u001b[0m\u001b[0mplot\u001b[0m\u001b[0;34m(\u001b[0m\u001b[0mdata\u001b[0m\u001b[0;34m[\u001b[0m\u001b[0;36m10\u001b[0m\u001b[0;34m]\u001b[0m\u001b[0;34m[\u001b[0m\u001b[0;36m0\u001b[0m\u001b[0;34m]\u001b[0m\u001b[0;34m[\u001b[0m\u001b[0;34m:\u001b[0m\u001b[0;34m,\u001b[0m\u001b[0;36m0\u001b[0m\u001b[0;34m]\u001b[0m\u001b[0;34m,\u001b[0m\u001b[0mdata\u001b[0m\u001b[0;34m[\u001b[0m\u001b[0;36m10\u001b[0m\u001b[0;34m]\u001b[0m\u001b[0;34m[\u001b[0m\u001b[0;36m0\u001b[0m\u001b[0;34m]\u001b[0m\u001b[0;34m[\u001b[0m\u001b[0;34m:\u001b[0m\u001b[0;34m,\u001b[0m\u001b[0;36m1\u001b[0m\u001b[0;34m]\u001b[0m\u001b[0;34m,\u001b[0m\u001b[0mlabel\u001b[0m\u001b[0;34m=\u001b[0m\u001b[0;34m'kT=0.01'\u001b[0m\u001b[0;34m,\u001b[0m\u001b[0mcolor\u001b[0m\u001b[0;34m=\u001b[0m\u001b[0;34m'#4888db'\u001b[0m\u001b[0;34m)\u001b[0m\u001b[0;34m\u001b[0m\u001b[0;34m\u001b[0m\u001b[0m\n\u001b[0;32m----> 3\u001b[0;31m \u001b[0mplt\u001b[0m\u001b[0;34m.\u001b[0m\u001b[0mplot\u001b[0m\u001b[0;34m(\u001b[0m\u001b[0mdata\u001b[0m\u001b[0;34m[\u001b[0m\u001b[0;36m10\u001b[0m\u001b[0;34m]\u001b[0m\u001b[0;34m[\u001b[0m\u001b[0;36m1\u001b[0m\u001b[0;34m]\u001b[0m\u001b[0;34m[\u001b[0m\u001b[0;34m:\u001b[0m\u001b[0;34m,\u001b[0m\u001b[0;36m0\u001b[0m\u001b[0;34m]\u001b[0m\u001b[0;34m,\u001b[0m\u001b[0mdata\u001b[0m\u001b[0;34m[\u001b[0m\u001b[0;36m10\u001b[0m\u001b[0;34m]\u001b[0m\u001b[0;34m[\u001b[0m\u001b[0;36m1\u001b[0m\u001b[0;34m]\u001b[0m\u001b[0;34m[\u001b[0m\u001b[0;34m:\u001b[0m\u001b[0;34m,\u001b[0m\u001b[0;36m1\u001b[0m\u001b[0;34m]\u001b[0m\u001b[0;34m,\u001b[0m\u001b[0mlabel\u001b[0m\u001b[0;34m=\u001b[0m\u001b[0;34m'kT=1.7575'\u001b[0m\u001b[0;34m,\u001b[0m\u001b[0mcolor\u001b[0m\u001b[0;34m=\u001b[0m\u001b[0;34m'#f79501'\u001b[0m\u001b[0;34m)\u001b[0m\u001b[0;34m\u001b[0m\u001b[0;34m\u001b[0m\u001b[0m\n\u001b[0m\u001b[1;32m      4\u001b[0m \u001b[0mplt\u001b[0m\u001b[0;34m.\u001b[0m\u001b[0mplot\u001b[0m\u001b[0;34m(\u001b[0m\u001b[0mdata\u001b[0m\u001b[0;34m[\u001b[0m\u001b[0;36m10\u001b[0m\u001b[0;34m]\u001b[0m\u001b[0;34m[\u001b[0m\u001b[0;34m-\u001b[0m\u001b[0;36m1\u001b[0m\u001b[0;34m]\u001b[0m\u001b[0;34m[\u001b[0m\u001b[0;34m:\u001b[0m\u001b[0;34m,\u001b[0m\u001b[0;36m0\u001b[0m\u001b[0;34m]\u001b[0m\u001b[0;34m,\u001b[0m\u001b[0mdata\u001b[0m\u001b[0;34m[\u001b[0m\u001b[0;36m10\u001b[0m\u001b[0;34m]\u001b[0m\u001b[0;34m[\u001b[0m\u001b[0;34m-\u001b[0m\u001b[0;36m1\u001b[0m\u001b[0;34m]\u001b[0m\u001b[0;34m[\u001b[0m\u001b[0;34m:\u001b[0m\u001b[0;34m,\u001b[0m\u001b[0;36m1\u001b[0m\u001b[0;34m]\u001b[0m\u001b[0;34m,\u001b[0m\u001b[0mlabel\u001b[0m\u001b[0;34m=\u001b[0m\u001b[0;34m'kT=7'\u001b[0m\u001b[0;34m,\u001b[0m\u001b[0mcolor\u001b[0m\u001b[0;34m=\u001b[0m\u001b[0;34m'#c63939'\u001b[0m\u001b[0;34m)\u001b[0m\u001b[0;34m\u001b[0m\u001b[0;34m\u001b[0m\u001b[0m\n\u001b[1;32m      5\u001b[0m \u001b[0mplt\u001b[0m\u001b[0;34m.\u001b[0m\u001b[0mxlabel\u001b[0m\u001b[0;34m(\u001b[0m\u001b[0;34m'time step'\u001b[0m\u001b[0;34m)\u001b[0m\u001b[0;34m\u001b[0m\u001b[0;34m\u001b[0m\u001b[0m\n",
      "\u001b[0;31mIndexError\u001b[0m: index 1 is out of bounds for axis 0 with size 1"
     ]
    },
    {
     "data": {
      "image/png": "[encoded data removed]",
      "text/plain": [
       "<Figure size 432x288 with 1 Axes>"
      ]
     },
     "metadata": {
      "needs_background": "light"
     },
     "output_type": "display_data"
    }
   ],
   "source": [
    "plt.figure()\n",
    "plt.plot(data[10][0][:,0],data[10][0][:,1],label='kT=0.01',color='#4888db')\n",
    "#plt.plot(data[10][1][:,0],data[10][1][:,1],label='kT=1.7575',color='#f79501')\n",
    "#plt.plot(data[10][-1][:,0],data[10][-1][:,1],label='kT=7',color='#c63939')\n",
    "plt.xlabel('time step')\n",
    "plt.ylabel('potential_energy')\n",
    "plt.legend()"
   ]
  },
  {
   "cell_type": "code",
   "execution_count": 43,
   "metadata": {},
   "outputs": [
    {
     "ename": "IndexError",
     "evalue": "index 1 is out of bounds for axis 0 with size 1",
     "output_type": "error",
     "traceback": [
      "\u001b[0;31m---------------------------------------------------------------------------\u001b[0m",
      "\u001b[0;31mIndexError\u001b[0m                                Traceback (most recent call last)",
      "\u001b[0;32m<ipython-input-43-bd19029279bf>\u001b[0m in \u001b[0;36m<module>\u001b[0;34m\u001b[0m\n\u001b[1;32m      1\u001b[0m \u001b[0mplt\u001b[0m\u001b[0;34m.\u001b[0m\u001b[0mfigure\u001b[0m\u001b[0;34m(\u001b[0m\u001b[0;34m)\u001b[0m\u001b[0;34m\u001b[0m\u001b[0;34m\u001b[0m\u001b[0m\n\u001b[1;32m      2\u001b[0m \u001b[0mplt\u001b[0m\u001b[0;34m.\u001b[0m\u001b[0mplot\u001b[0m\u001b[0;34m(\u001b[0m\u001b[0mdata\u001b[0m\u001b[0;34m[\u001b[0m\u001b[0;36m10\u001b[0m\u001b[0;34m]\u001b[0m\u001b[0;34m[\u001b[0m\u001b[0;36m0\u001b[0m\u001b[0;34m]\u001b[0m\u001b[0;34m[\u001b[0m\u001b[0;34m:\u001b[0m\u001b[0;34m,\u001b[0m\u001b[0;36m0\u001b[0m\u001b[0;34m]\u001b[0m\u001b[0;34m,\u001b[0m\u001b[0mdata\u001b[0m\u001b[0;34m[\u001b[0m\u001b[0;36m10\u001b[0m\u001b[0;34m]\u001b[0m\u001b[0;34m[\u001b[0m\u001b[0;36m0\u001b[0m\u001b[0;34m]\u001b[0m\u001b[0;34m[\u001b[0m\u001b[0;34m:\u001b[0m\u001b[0;34m,\u001b[0m\u001b[0;36m1\u001b[0m\u001b[0;34m]\u001b[0m\u001b[0;34m+\u001b[0m\u001b[0mdata\u001b[0m\u001b[0;34m[\u001b[0m\u001b[0;36m10\u001b[0m\u001b[0;34m]\u001b[0m\u001b[0;34m[\u001b[0m\u001b[0;36m0\u001b[0m\u001b[0;34m]\u001b[0m\u001b[0;34m[\u001b[0m\u001b[0;34m:\u001b[0m\u001b[0;34m,\u001b[0m\u001b[0;36m2\u001b[0m\u001b[0;34m]\u001b[0m\u001b[0;34m,\u001b[0m\u001b[0mlabel\u001b[0m\u001b[0;34m=\u001b[0m\u001b[0;34m'kT=0.01'\u001b[0m\u001b[0;34m,\u001b[0m\u001b[0mcolor\u001b[0m\u001b[0;34m=\u001b[0m\u001b[0;34m'#4888db'\u001b[0m\u001b[0;34m)\u001b[0m\u001b[0;34m\u001b[0m\u001b[0;34m\u001b[0m\u001b[0m\n\u001b[0;32m----> 3\u001b[0;31m \u001b[0mplt\u001b[0m\u001b[0;34m.\u001b[0m\u001b[0mplot\u001b[0m\u001b[0;34m(\u001b[0m\u001b[0mdata\u001b[0m\u001b[0;34m[\u001b[0m\u001b[0;36m10\u001b[0m\u001b[0;34m]\u001b[0m\u001b[0;34m[\u001b[0m\u001b[0;36m1\u001b[0m\u001b[0;34m]\u001b[0m\u001b[0;34m[\u001b[0m\u001b[0;34m:\u001b[0m\u001b[0;34m,\u001b[0m\u001b[0;36m0\u001b[0m\u001b[0;34m]\u001b[0m\u001b[0;34m,\u001b[0m\u001b[0mdata\u001b[0m\u001b[0;34m[\u001b[0m\u001b[0;36m10\u001b[0m\u001b[0;34m]\u001b[0m\u001b[0;34m[\u001b[0m\u001b[0;36m1\u001b[0m\u001b[0;34m]\u001b[0m\u001b[0;34m[\u001b[0m\u001b[0;34m:\u001b[0m\u001b[0;34m,\u001b[0m\u001b[0;36m1\u001b[0m\u001b[0;34m]\u001b[0m\u001b[0;34m+\u001b[0m\u001b[0mdata\u001b[0m\u001b[0;34m[\u001b[0m\u001b[0;36m10\u001b[0m\u001b[0;34m]\u001b[0m\u001b[0;34m[\u001b[0m\u001b[0;36m1\u001b[0m\u001b[0;34m]\u001b[0m\u001b[0;34m[\u001b[0m\u001b[0;34m:\u001b[0m\u001b[0;34m,\u001b[0m\u001b[0;36m2\u001b[0m\u001b[0;34m]\u001b[0m\u001b[0;34m,\u001b[0m\u001b[0mlabel\u001b[0m\u001b[0;34m=\u001b[0m\u001b[0;34m'kT=kT=1.7575'\u001b[0m\u001b[0;34m,\u001b[0m\u001b[0mcolor\u001b[0m\u001b[0;34m=\u001b[0m\u001b[0;34m'#f79501'\u001b[0m\u001b[0;34m)\u001b[0m\u001b[0;34m\u001b[0m\u001b[0;34m\u001b[0m\u001b[0m\n\u001b[0m\u001b[1;32m      4\u001b[0m \u001b[0mplt\u001b[0m\u001b[0;34m.\u001b[0m\u001b[0mplot\u001b[0m\u001b[0;34m(\u001b[0m\u001b[0mdata\u001b[0m\u001b[0;34m[\u001b[0m\u001b[0;36m10\u001b[0m\u001b[0;34m]\u001b[0m\u001b[0;34m[\u001b[0m\u001b[0;34m-\u001b[0m\u001b[0;36m1\u001b[0m\u001b[0;34m]\u001b[0m\u001b[0;34m[\u001b[0m\u001b[0;34m:\u001b[0m\u001b[0;34m,\u001b[0m\u001b[0;36m0\u001b[0m\u001b[0;34m]\u001b[0m\u001b[0;34m,\u001b[0m\u001b[0mdata\u001b[0m\u001b[0;34m[\u001b[0m\u001b[0;36m10\u001b[0m\u001b[0;34m]\u001b[0m\u001b[0;34m[\u001b[0m\u001b[0;34m-\u001b[0m\u001b[0;36m1\u001b[0m\u001b[0;34m]\u001b[0m\u001b[0;34m[\u001b[0m\u001b[0;34m:\u001b[0m\u001b[0;34m,\u001b[0m\u001b[0;36m1\u001b[0m\u001b[0;34m]\u001b[0m\u001b[0;34m+\u001b[0m\u001b[0mdata\u001b[0m\u001b[0;34m[\u001b[0m\u001b[0;36m10\u001b[0m\u001b[0;34m]\u001b[0m\u001b[0;34m[\u001b[0m\u001b[0;34m-\u001b[0m\u001b[0;36m1\u001b[0m\u001b[0;34m]\u001b[0m\u001b[0;34m[\u001b[0m\u001b[0;34m:\u001b[0m\u001b[0;34m,\u001b[0m\u001b[0;36m2\u001b[0m\u001b[0;34m]\u001b[0m\u001b[0;34m,\u001b[0m\u001b[0mlabel\u001b[0m\u001b[0;34m=\u001b[0m\u001b[0;34m'kT=7'\u001b[0m\u001b[0;34m,\u001b[0m\u001b[0mcolor\u001b[0m\u001b[0;34m=\u001b[0m\u001b[0;34m'#c63939'\u001b[0m\u001b[0;34m)\u001b[0m\u001b[0;34m\u001b[0m\u001b[0;34m\u001b[0m\u001b[0m\n\u001b[1;32m      5\u001b[0m \u001b[0mplt\u001b[0m\u001b[0;34m.\u001b[0m\u001b[0mxlabel\u001b[0m\u001b[0;34m(\u001b[0m\u001b[0;34m'time step'\u001b[0m\u001b[0;34m)\u001b[0m\u001b[0;34m\u001b[0m\u001b[0;34m\u001b[0m\u001b[0m\n",
      "\u001b[0;31mIndexError\u001b[0m: index 1 is out of bounds for axis 0 with size 1"
     ]
    },
    {
     "data": {
      "image/png": "[encoded data removed]",
      "text/plain": [
       "<Figure size 432x288 with 1 Axes>"
      ]
     },
     "metadata": {
      "needs_background": "light"
     },
     "output_type": "display_data"
    }
   ],
   "source": [
    "plt.figure()\n",
    "plt.plot(data[10][0][:,0],data[10][0][:,1]+data[10][0][:,2],label='kT=0.01',color='#4888db')\n",
    "#plt.plot(data[10][1][:,0],data[10][1][:,1]+data[10][1][:,2],label='kT=kT=1.7575',color='#f79501')\n",
    "#plt.plot(data[10][-1][:,0],data[10][-1][:,1]+data[10][-1][:,2],label='kT=7',color='#c63939')\n",
    "plt.xlabel('time step')\n",
    "plt.ylabel('total_energy')\n",
    "plt.legend()"
   ]
  },
  {
   "cell_type": "code",
   "execution_count": 44,
   "metadata": {},
   "outputs": [
    {
     "ename": "IndexError",
     "evalue": "index 1 is out of bounds for axis 0 with size 1",
     "output_type": "error",
     "traceback": [
      "\u001b[0;31m---------------------------------------------------------------------------\u001b[0m",
      "\u001b[0;31mIndexError\u001b[0m                                Traceback (most recent call last)",
      "\u001b[0;32m<ipython-input-44-ec9480f59f34>\u001b[0m in \u001b[0;36m<module>\u001b[0;34m\u001b[0m\n\u001b[1;32m      1\u001b[0m \u001b[0mplt\u001b[0m\u001b[0;34m.\u001b[0m\u001b[0mfigure\u001b[0m\u001b[0;34m(\u001b[0m\u001b[0;34m)\u001b[0m\u001b[0;34m\u001b[0m\u001b[0;34m\u001b[0m\u001b[0m\n\u001b[1;32m      2\u001b[0m \u001b[0mplt\u001b[0m\u001b[0;34m.\u001b[0m\u001b[0mplot\u001b[0m\u001b[0;34m(\u001b[0m\u001b[0mEQanalysis\u001b[0m\u001b[0;34m[\u001b[0m\u001b[0;36m10\u001b[0m\u001b[0;34m]\u001b[0m\u001b[0;34m[\u001b[0m\u001b[0;36m0\u001b[0m\u001b[0;34m]\u001b[0m\u001b[0;34m.\u001b[0m\u001b[0mrdf\u001b[0m\u001b[0;34m.\u001b[0m\u001b[0mR\u001b[0m\u001b[0;34m,\u001b[0m \u001b[0mEQanalysis\u001b[0m\u001b[0;34m[\u001b[0m\u001b[0;36m10\u001b[0m\u001b[0;34m]\u001b[0m\u001b[0;34m[\u001b[0m\u001b[0;36m0\u001b[0m\u001b[0;34m]\u001b[0m\u001b[0;34m.\u001b[0m\u001b[0mrdf\u001b[0m\u001b[0;34m.\u001b[0m\u001b[0mRDF\u001b[0m\u001b[0;34m,\u001b[0m\u001b[0mlabel\u001b[0m\u001b[0;34m=\u001b[0m\u001b[0;34m'kT=0.01'\u001b[0m\u001b[0;34m,\u001b[0m\u001b[0mcolor\u001b[0m\u001b[0;34m=\u001b[0m\u001b[0;34m'#4888db'\u001b[0m\u001b[0;34m)\u001b[0m\u001b[0;34m\u001b[0m\u001b[0;34m\u001b[0m\u001b[0m\n\u001b[0;32m----> 3\u001b[0;31m \u001b[0mplt\u001b[0m\u001b[0;34m.\u001b[0m\u001b[0mplot\u001b[0m\u001b[0;34m(\u001b[0m\u001b[0mEQanalysis\u001b[0m\u001b[0;34m[\u001b[0m\u001b[0;36m10\u001b[0m\u001b[0;34m]\u001b[0m\u001b[0;34m[\u001b[0m\u001b[0;36m1\u001b[0m\u001b[0;34m]\u001b[0m\u001b[0;34m.\u001b[0m\u001b[0mrdf\u001b[0m\u001b[0;34m.\u001b[0m\u001b[0mR\u001b[0m\u001b[0;34m,\u001b[0m \u001b[0mEQanalysis\u001b[0m\u001b[0;34m[\u001b[0m\u001b[0;36m10\u001b[0m\u001b[0;34m]\u001b[0m\u001b[0;34m[\u001b[0m\u001b[0;36m1\u001b[0m\u001b[0;34m]\u001b[0m\u001b[0;34m.\u001b[0m\u001b[0mrdf\u001b[0m\u001b[0;34m.\u001b[0m\u001b[0mRDF\u001b[0m\u001b[0;34m,\u001b[0m\u001b[0mlabel\u001b[0m\u001b[0;34m=\u001b[0m\u001b[0;34m'kT=1.7575'\u001b[0m\u001b[0;34m,\u001b[0m\u001b[0mcolor\u001b[0m\u001b[0;34m=\u001b[0m\u001b[0;34m'#f79501'\u001b[0m\u001b[0;34m)\u001b[0m\u001b[0;34m\u001b[0m\u001b[0;34m\u001b[0m\u001b[0m\n\u001b[0m\u001b[1;32m      4\u001b[0m \u001b[0mplt\u001b[0m\u001b[0;34m.\u001b[0m\u001b[0mplot\u001b[0m\u001b[0;34m(\u001b[0m\u001b[0mEQanalysis\u001b[0m\u001b[0;34m[\u001b[0m\u001b[0;36m10\u001b[0m\u001b[0;34m]\u001b[0m\u001b[0;34m[\u001b[0m\u001b[0;34m-\u001b[0m\u001b[0;36m1\u001b[0m\u001b[0;34m]\u001b[0m\u001b[0;34m.\u001b[0m\u001b[0mrdf\u001b[0m\u001b[0;34m.\u001b[0m\u001b[0mR\u001b[0m\u001b[0;34m,\u001b[0m \u001b[0mEQanalysis\u001b[0m\u001b[0;34m[\u001b[0m\u001b[0;36m10\u001b[0m\u001b[0;34m]\u001b[0m\u001b[0;34m[\u001b[0m\u001b[0;34m-\u001b[0m\u001b[0;36m1\u001b[0m\u001b[0;34m]\u001b[0m\u001b[0;34m.\u001b[0m\u001b[0mrdf\u001b[0m\u001b[0;34m.\u001b[0m\u001b[0mRDF\u001b[0m\u001b[0;34m,\u001b[0m\u001b[0mlabel\u001b[0m\u001b[0;34m=\u001b[0m\u001b[0;34m'kT=7'\u001b[0m\u001b[0;34m,\u001b[0m\u001b[0mcolor\u001b[0m\u001b[0;34m=\u001b[0m\u001b[0;34m'#c63939'\u001b[0m\u001b[0;34m)\u001b[0m\u001b[0;34m\u001b[0m\u001b[0;34m\u001b[0m\u001b[0m\n\u001b[1;32m      5\u001b[0m \u001b[0mplt\u001b[0m\u001b[0;34m.\u001b[0m\u001b[0mlegend\u001b[0m\u001b[0;34m(\u001b[0m\u001b[0;34m)\u001b[0m\u001b[0;34m\u001b[0m\u001b[0;34m\u001b[0m\u001b[0m\n",
      "\u001b[0;31mIndexError\u001b[0m: index 1 is out of bounds for axis 0 with size 1"
     ]
    },
    {
     "data": {
      "image/png": "[encoded data removed]",
      "text/plain": [
       "<Figure size 432x288 with 1 Axes>"
      ]
     },
     "metadata": {
      "needs_background": "light"
     },
     "output_type": "display_data"
    }
   ],
   "source": [
    "plt.figure()\n",
    "plt.plot(EQanalysis[10][0].rdf.R, EQanalysis[10][0].rdf.RDF,label='kT=0.01',color='#4888db')\n",
    "#plt.plot(EQanalysis[10][1].rdf.R, EQanalysis[10][1].rdf.RDF,label='kT=1.7575',color='#f79501')\n",
    "#plt.plot(EQanalysis[10][-1].rdf.R, EQanalysis[10][-1].rdf.RDF,label='kT=7',color='#c63939')\n",
    "plt.legend()\n",
    "plt.xlabel('r')\n",
    "plt.ylabel('g_AA')"
   ]
  },
  {
   "cell_type": "code",
   "execution_count": null,
   "metadata": {},
   "outputs": [],
   "source": [
    "ex_render.display_movie(ex_render.render_sphere_frame, 'trajectory.gsd') # Takes some time"
   ]
  },
  {
   "cell_type": "code",
   "execution_count": null,
   "metadata": {},
   "outputs": [],
   "source": []
  }
 ],
 "metadata": {
  "kernelspec": {
   "display_name": "Python 3",
   "language": "python",
   "name": "python3"
  },
  "language_info": {
   "codemirror_mode": {
    "name": "ipython",
    "version": 3
   },
   "file_extension": ".py",
   "mimetype": "text/x-python",
   "name": "python",
   "nbconvert_exporter": "python",
   "pygments_lexer": "ipython3",
   "version": "3.7.1"
  }
 },
 "nbformat": 4,
 "nbformat_minor": 2
}
